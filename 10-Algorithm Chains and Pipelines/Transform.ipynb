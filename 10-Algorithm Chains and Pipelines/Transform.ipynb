{
 "cells": [
  {
   "cell_type": "code",
   "execution_count": 2,
   "metadata": {},
   "outputs": [],
   "source": [
    " import pandas as pd\n",
    " X = pd.DataFrame(\n",
    "    {'city': ['London', 'London', 'Paris', 'Sallisaw'],\n",
    "     'title': [\"His Last Bow\", \"How Watson Learned the Trick\",\n",
    "               \"A Moveable Feast\", \"The Grapes of Wrath\"],\n",
    "     'expert_rating': [5, 3, 4, 5],\n",
    "     'user_rating': [4, 5, 4, 3]})"
   ]
  },
  {
   "cell_type": "code",
   "execution_count": 6,
   "metadata": {},
   "outputs": [
    {
     "name": "stdout",
     "output_type": "stream",
     "text": [
      "<class 'pandas.core.frame.DataFrame'>\n",
      "RangeIndex: 4 entries, 0 to 3\n",
      "Data columns (total 4 columns):\n",
      " #   Column         Non-Null Count  Dtype \n",
      "---  ------         --------------  ----- \n",
      " 0   city           4 non-null      object\n",
      " 1   title          4 non-null      object\n",
      " 2   expert_rating  4 non-null      int64 \n",
      " 3   user_rating    4 non-null      int64 \n",
      "dtypes: int64(2), object(2)\n",
      "memory usage: 256.0+ bytes\n"
     ]
    }
   ],
   "source": [
    "X.info()"
   ]
  },
  {
   "cell_type": "code",
   "execution_count": 9,
   "metadata": {},
   "outputs": [
    {
     "data": {
      "text/plain": [
       "ColumnTransformer(transformers=[('city_category', OneHotEncoder(dtype='int'),\n",
       "                                 ['city']),\n",
       "                                ('title_bow', CountVectorizer(), 'title')])"
      ]
     },
     "execution_count": 9,
     "metadata": {},
     "output_type": "execute_result"
    }
   ],
   "source": [
    "from sklearn.compose import ColumnTransformer\n",
    "from sklearn.feature_extraction.text import CountVectorizer\n",
    "from sklearn.preprocessing import OneHotEncoder\n",
    "\n",
    "column_trans = ColumnTransformer(\n",
    "    [('city_category', OneHotEncoder(dtype='int'),['city']),\n",
    "     ('title_bow', CountVectorizer(), 'title')],\n",
    "    remainder='drop')\n",
    "column_trans.fit(X)"
   ]
  },
  {
   "cell_type": "code",
   "execution_count": 5,
   "metadata": {},
   "outputs": [
    {
     "data": {
      "text/plain": [
       "['city_category__x0_London',\n",
       " 'city_category__x0_Paris',\n",
       " 'city_category__x0_Sallisaw',\n",
       " 'title_bow__bow',\n",
       " 'title_bow__feast',\n",
       " 'title_bow__grapes',\n",
       " 'title_bow__his',\n",
       " 'title_bow__how',\n",
       " 'title_bow__last',\n",
       " 'title_bow__learned',\n",
       " 'title_bow__moveable',\n",
       " 'title_bow__of',\n",
       " 'title_bow__the',\n",
       " 'title_bow__trick',\n",
       " 'title_bow__watson',\n",
       " 'title_bow__wrath']"
      ]
     },
     "execution_count": 5,
     "metadata": {},
     "output_type": "execute_result"
    }
   ],
   "source": [
    "column_trans.get_feature_names()"
   ]
  },
  {
   "cell_type": "code",
   "execution_count": 8,
   "metadata": {},
   "outputs": [
    {
     "data": {
      "text/plain": [
       "array([[ 0.90453403,  0.        ,  1.        ,  0.        ,  0.        ],\n",
       "       [-1.50755672,  1.41421356,  1.        ,  0.        ,  0.        ],\n",
       "       [-0.30151134,  0.        ,  0.        ,  1.        ,  0.        ],\n",
       "       [ 0.90453403, -1.41421356,  0.        ,  0.        ,  1.        ]])"
      ]
     },
     "execution_count": 8,
     "metadata": {},
     "output_type": "execute_result"
    }
   ],
   "source": [
    "from sklearn.preprocessing import StandardScaler\n",
    "from sklearn.compose import make_column_selector\n",
    "import numpy as np\n",
    "\n",
    "ct = ColumnTransformer([\n",
    "     ('scale', StandardScaler(),make_column_selector(dtype_include=np.number)),\n",
    "      ('onehot', OneHotEncoder(),make_column_selector(pattern='city', dtype_include=object))])\n",
    "ct.fit_transform(X)"
   ]
  },
  {
   "cell_type": "code",
   "execution_count": 11,
   "metadata": {},
   "outputs": [
    {
     "data": {
      "text/plain": [
       "array([[1, 0, 0, 1, 0, 0, 1, 0, 1, 0, 0, 0, 0, 0, 0, 0, 5, 4],\n",
       "       [1, 0, 0, 0, 0, 0, 0, 1, 0, 1, 0, 0, 1, 1, 1, 0, 3, 5],\n",
       "       [0, 1, 0, 0, 1, 0, 0, 0, 0, 0, 1, 0, 0, 0, 0, 0, 4, 4],\n",
       "       [0, 0, 1, 0, 0, 1, 0, 0, 0, 0, 0, 1, 1, 0, 0, 1, 5, 3]],\n",
       "      dtype=int64)"
      ]
     },
     "execution_count": 11,
     "metadata": {},
     "output_type": "execute_result"
    }
   ],
   "source": [
    "column_trans = ColumnTransformer(\n",
    "    [('city_category', OneHotEncoder(dtype='int'),['city']),\n",
    "     ('title_bow', CountVectorizer(), 'title')],\n",
    "    remainder='passthrough')\n",
    "\n",
    "column_trans.fit_transform(X)"
   ]
  },
  {
   "cell_type": "code",
   "execution_count": 12,
   "metadata": {},
   "outputs": [
    {
     "data": {
      "text/plain": [
       "['city_category__x0_London',\n",
       " 'city_category__x0_Paris',\n",
       " 'city_category__x0_Sallisaw',\n",
       " 'title_bow__bow',\n",
       " 'title_bow__feast',\n",
       " 'title_bow__grapes',\n",
       " 'title_bow__his',\n",
       " 'title_bow__how',\n",
       " 'title_bow__last',\n",
       " 'title_bow__learned',\n",
       " 'title_bow__moveable',\n",
       " 'title_bow__of',\n",
       " 'title_bow__the',\n",
       " 'title_bow__trick',\n",
       " 'title_bow__watson',\n",
       " 'title_bow__wrath',\n",
       " 'expert_rating',\n",
       " 'user_rating']"
      ]
     },
     "execution_count": 12,
     "metadata": {},
     "output_type": "execute_result"
    }
   ],
   "source": [
    "column_trans.get_feature_names()"
   ]
  },
  {
   "cell_type": "code",
   "execution_count": 13,
   "metadata": {},
   "outputs": [
    {
     "data": {
      "text/plain": [
       "array([[1. , 0.5],\n",
       "       [0. , 1. ],\n",
       "       [0.5, 0.5],\n",
       "       [1. , 0. ]])"
      ]
     },
     "execution_count": 13,
     "metadata": {},
     "output_type": "execute_result"
    }
   ],
   "source": [
    "from sklearn.preprocessing import MinMaxScaler\n",
    "column_trans = ColumnTransformer(\n",
    "    [('city_category', OneHotEncoder(), ['city']),\n",
    "     ('title_bow', CountVectorizer(), 'title')],\n",
    "    remainder=MinMaxScaler())\n",
    "\n",
    "column_trans.fit_transform(X)[:, -2:]"
   ]
  },
  {
   "cell_type": "code",
   "execution_count": 16,
   "metadata": {},
   "outputs": [
    {
     "data": {
      "text/plain": [
       "ColumnTransformer(remainder=MinMaxScaler(),\n",
       "                  transformers=[('onehotencoder', OneHotEncoder(), ['city']),\n",
       "                                ('countvectorizer', CountVectorizer(),\n",
       "                                 'title')])"
      ]
     },
     "execution_count": 16,
     "metadata": {},
     "output_type": "execute_result"
    }
   ],
   "source": [
    "from sklearn.compose import make_column_transformer\n",
    "column_trans = make_column_transformer(\n",
    "    (OneHotEncoder(), ['city']),\n",
    "    (CountVectorizer(), 'title'),\n",
    "    remainder=MinMaxScaler())\n",
    "column_trans"
   ]
  },
  {
   "cell_type": "code",
   "execution_count": null,
   "metadata": {},
   "outputs": [],
   "source": []
  }
 ],
 "metadata": {
  "kernelspec": {
   "display_name": "Python 3",
   "language": "python",
   "name": "python3"
  },
  "language_info": {
   "codemirror_mode": {
    "name": "ipython",
    "version": 3
   },
   "file_extension": ".py",
   "mimetype": "text/x-python",
   "name": "python",
   "nbconvert_exporter": "python",
   "pygments_lexer": "ipython3",
   "version": "3.7.6"
  }
 },
 "nbformat": 4,
 "nbformat_minor": 4
}
